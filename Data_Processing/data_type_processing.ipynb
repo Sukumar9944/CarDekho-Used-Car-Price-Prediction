{
 "cells": [
  {
   "cell_type": "code",
   "execution_count": 1,
   "metadata": {},
   "outputs": [],
   "source": [
    "import pandas as pd\n",
    "import re"
   ]
  },
  {
   "cell_type": "code",
   "execution_count": 2,
   "metadata": {},
   "outputs": [],
   "source": [
    "df = pd.read_csv(r'F:\\GUVI_DATA_SCIENCE\\Project\\CarDekho-Used-Car-Price-Prediction\\Datasets\\Merged_dataset\\merged_data.csv ')"
   ]
  },
  {
   "cell_type": "code",
   "execution_count": 3,
   "metadata": {},
   "outputs": [
    {
     "name": "stdout",
     "output_type": "stream",
     "text": [
      "<class 'pandas.core.frame.DataFrame'>\n",
      "RangeIndex: 8369 entries, 0 to 8368\n",
      "Data columns (total 24 columns):\n",
      " #   Column               Non-Null Count  Dtype  \n",
      "---  ------               --------------  -----  \n",
      " 0   manufacturer         8369 non-null   object \n",
      " 1   model_year           8369 non-null   int64  \n",
      " 2   body_type            8365 non-null   object \n",
      " 3   transmission_type    8369 non-null   object \n",
      " 4   fuel_type            8369 non-null   object \n",
      " 5   total_kms            8369 non-null   int64  \n",
      " 6   total_owners         8369 non-null   int64  \n",
      " 7   price                8369 non-null   float64\n",
      " 8   insurance_type       8369 non-null   object \n",
      " 9   mileage(kmpl)        8369 non-null   object \n",
      " 10  engine(CC)           8369 non-null   object \n",
      " 11  max_power(bhp)       8369 non-null   object \n",
      " 12  torque(nm)           8369 non-null   object \n",
      " 13  seats                8368 non-null   float64\n",
      " 14  number_of_cylinders  8369 non-null   int64  \n",
      " 15  valves_per_cylinder  8369 non-null   int64  \n",
      " 16  super_charger        8369 non-null   object \n",
      " 17  turbo_charger        8369 non-null   object \n",
      " 18  gear_box             8369 non-null   object \n",
      " 19  drive_type           8369 non-null   object \n",
      " 20  steering_type        8369 non-null   object \n",
      " 21  top_speed            8369 non-null   object \n",
      " 22  cargo_volume         8369 non-null   object \n",
      " 23  location             8369 non-null   object \n",
      "dtypes: float64(2), int64(5), object(17)\n",
      "memory usage: 1.5+ MB\n"
     ]
    }
   ],
   "source": [
    "df.info()"
   ]
  },
  {
   "cell_type": "markdown",
   "metadata": {},
   "source": [
    "##### **Mileage**"
   ]
  },
  {
   "cell_type": "code",
   "execution_count": 4,
   "metadata": {},
   "outputs": [
    {
     "data": {
      "text/plain": [
       "0        23.1 kmpl\n",
       "1          17 kmpl\n",
       "2       23.84 kmpl\n",
       "3        19.1 kmpl\n",
       "4       23.65 kmpl\n",
       "           ...    \n",
       "8364    25.24 kmpl\n",
       "8365    22.74 kmpl\n",
       "8366    11.74 kmpl\n",
       "8367     18.5 kmpl\n",
       "8368    19.72 kmpl\n",
       "Name: mileage(kmpl), Length: 8369, dtype: object"
      ]
     },
     "execution_count": 4,
     "metadata": {},
     "output_type": "execute_result"
    }
   ],
   "source": [
    "df['mileage(kmpl)']"
   ]
  },
  {
   "cell_type": "code",
   "execution_count": 5,
   "metadata": {},
   "outputs": [],
   "source": [
    "def process_mileage(mileage):\n",
    "    mil = re.sub(r'[A-Za-z/]', '', mileage)\n",
    "    return float(mil)"
   ]
  },
  {
   "cell_type": "code",
   "execution_count": 6,
   "metadata": {},
   "outputs": [],
   "source": [
    "df['mileage(kmpl)'] = df['mileage(kmpl)'].apply(process_mileage)"
   ]
  },
  {
   "cell_type": "markdown",
   "metadata": {},
   "source": [
    "##### **Engine**"
   ]
  },
  {
   "cell_type": "code",
   "execution_count": 7,
   "metadata": {},
   "outputs": [
    {
     "data": {
      "text/plain": [
       "0        998 CC\n",
       "1       1497 CC\n",
       "2       1199 CC\n",
       "3       1197 CC\n",
       "4       1248 CC\n",
       "         ...   \n",
       "8364     998 CC\n",
       "8365     796 CC\n",
       "8366    1796 CC\n",
       "8367    1197 CC\n",
       "8368    1461 CC\n",
       "Name: engine(CC), Length: 8369, dtype: object"
      ]
     },
     "execution_count": 7,
     "metadata": {},
     "output_type": "execute_result"
    }
   ],
   "source": [
    "df['engine(CC)']"
   ]
  },
  {
   "cell_type": "code",
   "execution_count": 8,
   "metadata": {},
   "outputs": [],
   "source": [
    "def process_engine(engine):\n",
    "    eng = re.sub(r'[A-Za-z]', '', engine)\n",
    "    return float(eng)"
   ]
  },
  {
   "cell_type": "code",
   "execution_count": 9,
   "metadata": {},
   "outputs": [],
   "source": [
    "df['engine(CC)'] = df['engine(CC)'].apply(process_engine)"
   ]
  },
  {
   "cell_type": "markdown",
   "metadata": {},
   "source": [
    "##### **Max power**"
   ]
  },
  {
   "cell_type": "code",
   "execution_count": 10,
   "metadata": {},
   "outputs": [],
   "source": [
    "df = df.drop('max_power(bhp)', axis = 1)"
   ]
  },
  {
   "cell_type": "markdown",
   "metadata": {},
   "source": [
    "##### **Torque**"
   ]
  },
  {
   "cell_type": "code",
   "execution_count": 11,
   "metadata": {},
   "outputs": [
    {
     "data": {
      "text/plain": [
       "0           90Nm\n",
       "1          150Nm\n",
       "2          114Nm\n",
       "3       113.75Nm\n",
       "4          200Nm\n",
       "          ...   \n",
       "8364        89Nm\n",
       "8365        69Nm\n",
       "8366       285Nm\n",
       "8367       114Nm\n",
       "8368       245Nm\n",
       "Name: torque(nm), Length: 8369, dtype: object"
      ]
     },
     "execution_count": 11,
     "metadata": {},
     "output_type": "execute_result"
    }
   ],
   "source": [
    "df['torque(nm)']"
   ]
  },
  {
   "cell_type": "code",
   "execution_count": 12,
   "metadata": {},
   "outputs": [],
   "source": [
    "def process_torque(torque):\n",
    "    tor = re.sub(r'[a-zA-Z-/]|[0-9]{1}[,][0-9]{3}|[0-9]{4}|[(]{1}[0-9]{2}[.][0-9]{1}[)]', '', torque)\n",
    "    return float(tor)"
   ]
  },
  {
   "cell_type": "code",
   "execution_count": 13,
   "metadata": {},
   "outputs": [],
   "source": [
    "df['torque(nm)'] = df['torque(nm)'].apply(process_torque)"
   ]
  },
  {
   "cell_type": "markdown",
   "metadata": {},
   "source": [
    "##### **Gear Box**"
   ]
  },
  {
   "cell_type": "code",
   "execution_count": 14,
   "metadata": {},
   "outputs": [],
   "source": [
    "df = df.drop('gear_box', axis = 1)"
   ]
  },
  {
   "cell_type": "markdown",
   "metadata": {},
   "source": [
    "##### **Top Speed**"
   ]
  },
  {
   "cell_type": "code",
   "execution_count": 15,
   "metadata": {},
   "outputs": [],
   "source": [
    "df = df.drop('top_speed', axis = 1)"
   ]
  },
  {
   "cell_type": "markdown",
   "metadata": {},
   "source": [
    "##### **Cargo Volume**"
   ]
  },
  {
   "cell_type": "code",
   "execution_count": 16,
   "metadata": {},
   "outputs": [
    {
     "data": {
      "text/plain": [
       "0    235-litres\n",
       "1    352-litres\n",
       "2    242-litres\n",
       "3    407-litres\n",
       "4    353-litres\n",
       "Name: cargo_volume, dtype: object"
      ]
     },
     "execution_count": 16,
     "metadata": {},
     "output_type": "execute_result"
    }
   ],
   "source": [
    "df['cargo_volume'].head()"
   ]
  },
  {
   "cell_type": "code",
   "execution_count": 17,
   "metadata": {},
   "outputs": [],
   "source": [
    "def process_cargo_volume(cargo_volume):\n",
    "    if len(cargo_volume) > 3:\n",
    "        cargo = re.sub(r'[a-zA-Z-\\s()]|[/][0-9]{4}', '', cargo_volume)\n",
    "        return float(cargo)\n",
    "    else:\n",
    "        return float(cargo_volume)"
   ]
  },
  {
   "cell_type": "code",
   "execution_count": 18,
   "metadata": {},
   "outputs": [],
   "source": [
    "df['cargo_volume'] = df['cargo_volume'].apply(process_cargo_volume)"
   ]
  },
  {
   "cell_type": "code",
   "execution_count": 19,
   "metadata": {},
   "outputs": [
    {
     "name": "stdout",
     "output_type": "stream",
     "text": [
      "<class 'pandas.core.frame.DataFrame'>\n",
      "RangeIndex: 8369 entries, 0 to 8368\n",
      "Data columns (total 21 columns):\n",
      " #   Column               Non-Null Count  Dtype  \n",
      "---  ------               --------------  -----  \n",
      " 0   manufacturer         8369 non-null   object \n",
      " 1   model_year           8369 non-null   int64  \n",
      " 2   body_type            8365 non-null   object \n",
      " 3   transmission_type    8369 non-null   object \n",
      " 4   fuel_type            8369 non-null   object \n",
      " 5   total_kms            8369 non-null   int64  \n",
      " 6   total_owners         8369 non-null   int64  \n",
      " 7   price                8369 non-null   float64\n",
      " 8   insurance_type       8369 non-null   object \n",
      " 9   mileage(kmpl)        8369 non-null   float64\n",
      " 10  engine(CC)           8369 non-null   float64\n",
      " 11  torque(nm)           8369 non-null   float64\n",
      " 12  seats                8368 non-null   float64\n",
      " 13  number_of_cylinders  8369 non-null   int64  \n",
      " 14  valves_per_cylinder  8369 non-null   int64  \n",
      " 15  super_charger        8369 non-null   object \n",
      " 16  turbo_charger        8369 non-null   object \n",
      " 17  drive_type           8369 non-null   object \n",
      " 18  steering_type        8369 non-null   object \n",
      " 19  cargo_volume         8369 non-null   float64\n",
      " 20  location             8369 non-null   object \n",
      "dtypes: float64(6), int64(5), object(10)\n",
      "memory usage: 1.3+ MB\n"
     ]
    }
   ],
   "source": [
    "df.info()"
   ]
  },
  {
   "cell_type": "code",
   "execution_count": 20,
   "metadata": {},
   "outputs": [],
   "source": [
    "df = df.dropna()"
   ]
  },
  {
   "cell_type": "code",
   "execution_count": 21,
   "metadata": {},
   "outputs": [],
   "source": [
    "df.to_csv(r'F:\\GUVI_DATA_SCIENCE\\Project\\CarDekho-Used-Car-Price-Prediction\\Datasets\\Final\\final_data.csv', index = False)"
   ]
  },
  {
   "cell_type": "code",
   "execution_count": 22,
   "metadata": {},
   "outputs": [],
   "source": [
    "df = pd.read_csv(r'F:\\GUVI_DATA_SCIENCE\\Project\\CarDekho-Used-Car-Price-Prediction\\Datasets\\Final\\final_data.csv')"
   ]
  },
  {
   "cell_type": "code",
   "execution_count": 23,
   "metadata": {},
   "outputs": [
    {
     "name": "stdout",
     "output_type": "stream",
     "text": [
      "manufacturer\n",
      "Maruti                2249\n",
      "Hyundai               1651\n",
      "Honda                  865\n",
      "Tata                   431\n",
      "Mahindra               377\n",
      "Toyota                 324\n",
      "Renault                312\n",
      "Ford                   311\n",
      "Volkswagen             294\n",
      "Mercedes-Benz          245\n",
      "BMW                    184\n",
      "Skoda                  161\n",
      "Kia                    158\n",
      "Audi                   156\n",
      "Jeep                   112\n",
      "MG                      90\n",
      "Nissan                  77\n",
      "Chevrolet               76\n",
      "Datsun                  74\n",
      "Land Rover              44\n",
      "Volvo                   41\n",
      "Jaguar                  35\n",
      "Fiat                    31\n",
      "Mitsubishi              14\n",
      "Mini                    12\n",
      "Citroen                  8\n",
      "Porsche                  6\n",
      "Lexus                    5\n",
      "Mahindra Renault         5\n",
      "Isuzu                    5\n",
      "Mahindra Ssangyong       4\n",
      "Hindustan Motors         4\n",
      "Opel                     3\n",
      "Name: count, dtype: int64\n",
      "______________________________________________________________________\n",
      "body_type\n",
      "Hatchback        3567\n",
      "SUV              2224\n",
      "Sedan            2174\n",
      "MUV               352\n",
      "Minivans           23\n",
      "Coupe              10\n",
      "Pickup Trucks       6\n",
      "Convertibles        6\n",
      "Hybrids             1\n",
      "Wagon               1\n",
      "Name: count, dtype: int64\n",
      "______________________________________________________________________\n",
      "transmission_type\n",
      "Manual       6048\n",
      "Automatic    2316\n",
      "Name: count, dtype: int64\n",
      "______________________________________________________________________\n",
      "fuel_type\n",
      "Petrol      5549\n",
      "Diesel      2673\n",
      "Cng           98\n",
      "Electric      28\n",
      "Lpg           16\n",
      "Name: count, dtype: int64\n",
      "______________________________________________________________________\n",
      "total_owners\n",
      "1    5878\n",
      "2    1981\n",
      "3     374\n",
      "4      80\n",
      "0      32\n",
      "5      19\n",
      "Name: count, dtype: int64\n",
      "______________________________________________________________________\n",
      "insurance_type\n",
      "Third Party insurance    4057\n",
      "Comprehensive            3146\n",
      "Third Party               630\n",
      "Zero Dep                  303\n",
      "Not Available             223\n",
      "1                           4\n",
      "2                           1\n",
      "Name: count, dtype: int64\n",
      "______________________________________________________________________\n",
      "seats\n",
      "5.0     7356\n",
      "7.0      727\n",
      "6.0      103\n",
      "4.0       93\n",
      "8.0       62\n",
      "9.0       11\n",
      "2.0        7\n",
      "10.0       5\n",
      "Name: count, dtype: int64\n",
      "______________________________________________________________________\n",
      "number_of_cylinders\n",
      "4     6157\n",
      "3     2013\n",
      "6      129\n",
      "5       23\n",
      "2       16\n",
      "7       13\n",
      "8       12\n",
      "23       1\n",
      "Name: count, dtype: int64\n",
      "______________________________________________________________________\n",
      "valves_per_cylinder\n",
      "4     7948\n",
      "2      211\n",
      "3      199\n",
      "5        4\n",
      "69       2\n",
      "Name: count, dtype: int64\n",
      "______________________________________________________________________\n",
      "super_charger\n",
      "No     8341\n",
      "Yes      17\n",
      "yes       3\n",
      "NO        2\n",
      "no        1\n",
      "Name: count, dtype: int64\n",
      "______________________________________________________________________\n",
      "turbo_charger\n",
      "No       4818\n",
      "Yes      3425\n",
      "Twin       60\n",
      "NO         24\n",
      "YES        16\n",
      "no         10\n",
      "yes         8\n",
      "Turbo       2\n",
      "twin        1\n",
      "Name: count, dtype: int64\n",
      "______________________________________________________________________\n",
      "drive_type\n",
      "FWD                                  6775\n",
      "RWD                                   502\n",
      "AWD                                   338\n",
      "2WD                                   200\n",
      "4WD                                   173\n",
      "4X2                                    84\n",
      "2 WD                                   60\n",
      "Front Wheel Drive                      56\n",
      "4X4                                    53\n",
      "FWD                                    36\n",
      "4x2                                    20\n",
      "Two Wheel Drive                        20\n",
      "4x4                                    19\n",
      "RWD(with MTT)                           8\n",
      "All Wheel Drive                         8\n",
      "Rear Wheel Drive with ESP               7\n",
      "Permanent all-wheel drive quattro       2\n",
      "AWD INTEGRATED MANAGEMENT               1\n",
      "2WD                                     1\n",
      "4 WD                                    1\n",
      "Name: count, dtype: int64\n",
      "______________________________________________________________________\n",
      "steering_type\n",
      "Power         6601\n",
      "Electric      1483\n",
      "Electronic     107\n",
      "Manual          83\n",
      "Electrical      48\n",
      "power           29\n",
      "EPAS            10\n",
      "Hydraulic        2\n",
      "electric         1\n",
      "Name: count, dtype: int64\n",
      "______________________________________________________________________\n",
      "location\n",
      "Delhi        1483\n",
      "Bangalore    1481\n",
      "Hyderabad    1481\n",
      "Chennai      1419\n",
      "Kolkata      1380\n",
      "Jaipur       1120\n",
      "Name: count, dtype: int64\n",
      "______________________________________________________________________\n"
     ]
    }
   ],
   "source": [
    "categories = ['manufacturer',\n",
    "'body_type',\n",
    "'transmission_type',\n",
    "'fuel_type',\n",
    "'total_owners',\n",
    "'insurance_type',\n",
    "'seats',\n",
    "'number_of_cylinders',\n",
    "'valves_per_cylinder',\n",
    "'super_charger',\n",
    "'turbo_charger',\n",
    "'drive_type',\n",
    "'steering_type',\n",
    "'location'\n",
    "]\n",
    "\n",
    "for i in categories:\n",
    "    print(df[i].value_counts())\n",
    "    print('______________________________________________________________________')"
   ]
  },
  {
   "cell_type": "code",
   "execution_count": null,
   "metadata": {},
   "outputs": [],
   "source": []
  }
 ],
 "metadata": {
  "kernelspec": {
   "display_name": "env",
   "language": "python",
   "name": "python3"
  },
  "language_info": {
   "codemirror_mode": {
    "name": "ipython",
    "version": 3
   },
   "file_extension": ".py",
   "mimetype": "text/x-python",
   "name": "python",
   "nbconvert_exporter": "python",
   "pygments_lexer": "ipython3",
   "version": "3.11.3"
  }
 },
 "nbformat": 4,
 "nbformat_minor": 2
}
