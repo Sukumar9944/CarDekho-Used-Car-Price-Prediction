{
 "cells": [
  {
   "cell_type": "code",
   "execution_count": 1,
   "metadata": {},
   "outputs": [],
   "source": [
    "import pandas as pd"
   ]
  },
  {
   "cell_type": "markdown",
   "metadata": {},
   "source": [
    "##### **Bangalore**"
   ]
  },
  {
   "cell_type": "code",
   "execution_count": 5,
   "metadata": {},
   "outputs": [],
   "source": [
    "bangalore_df = pd.read_excel(r'F:\\GUVI_DATA_SCIENCE\\Project\\CarDekho-Used-Car-Price-Prediction\\Datasets\\bangalore_cars.xlsx')"
   ]
  },
  {
   "cell_type": "code",
   "execution_count": 6,
   "metadata": {},
   "outputs": [
    {
     "data": {
      "text/plain": [
       "(1481, 5)"
      ]
     },
     "execution_count": 6,
     "metadata": {},
     "output_type": "execute_result"
    }
   ],
   "source": [
    "bangalore_df.shape"
   ]
  },
  {
   "cell_type": "code",
   "execution_count": 7,
   "metadata": {},
   "outputs": [
    {
     "data": {
      "text/plain": [
       "new_car_detail      0\n",
       "new_car_overview    0\n",
       "new_car_feature     0\n",
       "new_car_specs       0\n",
       "car_links           0\n",
       "dtype: int64"
      ]
     },
     "execution_count": 7,
     "metadata": {},
     "output_type": "execute_result"
    }
   ],
   "source": [
    "bangalore_df.isnull().sum()"
   ]
  },
  {
   "cell_type": "code",
   "execution_count": 8,
   "metadata": {},
   "outputs": [
    {
     "data": {
      "text/plain": [
       "0"
      ]
     },
     "execution_count": 8,
     "metadata": {},
     "output_type": "execute_result"
    }
   ],
   "source": [
    "bangalore_df.duplicated().sum()"
   ]
  },
  {
   "cell_type": "code",
   "execution_count": 9,
   "metadata": {},
   "outputs": [],
   "source": [
    "car_details_b = []\n",
    "car_insurance_b = []\n",
    "car_specs_b = []\n",
    "\n",
    "for detail in bangalore_df['new_car_detail']:\n",
    "    data_dict = eval(detail)\n",
    "\n",
    "    # manufacturer\n",
    "    oem = data_dict['oem']\n",
    "\n",
    "    # modelYear\n",
    "    model_year = data_dict['modelYear']\n",
    "\n",
    "    # bodytype\n",
    "    body_type = data_dict['bt']\n",
    "\n",
    "    # transmission type\n",
    "    transmission_type = data_dict['transmission']\n",
    "\n",
    "    # fuel type\n",
    "    fuel_type = data_dict['ft']\n",
    "\n",
    "    # total_kms\n",
    "    total_kms = data_dict['km']\n",
    "    total_kms = total_kms.replace(',', '')\n",
    "    total_kms = int(total_kms)\n",
    "\n",
    "    # number of owners\n",
    "    total_owners = data_dict['ownerNo']    \n",
    "\n",
    "    # price\n",
    "    price = data_dict['price']\n",
    "\n",
    "    if 'Lakh' in price:\n",
    "        price = price.replace('Lakh', '')\n",
    "        price = price.replace('₹', '')\n",
    "        converted_price = round((float(price) * 100000), 0)\n",
    "        \n",
    "    elif 'Crore' in price:\n",
    "        price = price.replace('Crore', '')\n",
    "        price = price.replace('₹', '')\n",
    "        converted_price = round((float(price) * 10000000), 0)\n",
    "\n",
    "    dict1 = {'manufacturer': oem,\n",
    "            'model_year': model_year,\n",
    "            'body_type': body_type,\n",
    "            'transmission_type': transmission_type,\n",
    "            'fuel_type': fuel_type,\n",
    "            'total_kms': total_kms,\n",
    "            'total_owners': total_owners,\n",
    "            'price': converted_price,}\n",
    "    \n",
    "    car_details_b.append(dict1)\n",
    "\n",
    "for insurance in bangalore_df['new_car_overview']:\n",
    "    insurance_dict = eval(insurance)\n",
    "    \n",
    "    for top_data in insurance_dict['top']:\n",
    "        if top_data['key'] == 'Insurance Validity':\n",
    "            insurance_type = top_data['value']\n",
    "                    \n",
    "    dict2 = {'insurance_type': insurance_type,}\n",
    "    \n",
    "    car_insurance_b.append(dict2)\n",
    "\n",
    "for spec in bangalore_df['new_car_specs']:\n",
    "\n",
    "    spec_data_dict = eval(spec)\n",
    "\n",
    "    for top_data in spec_data_dict['top']:\n",
    "        if top_data['key'] == 'Mileage':\n",
    "            mileage = top_data['value']\n",
    "\n",
    "        if top_data['key'] == 'Engine':\n",
    "            engine = top_data['value']\n",
    "\n",
    "        if top_data['key'] == 'Max Power':\n",
    "            max_power = top_data['value']\n",
    "\n",
    "        if top_data['key'] == 'Torque':\n",
    "            torque = top_data['value']\n",
    "\n",
    "        if top_data['key'] == 'Seats':\n",
    "            seats = top_data['value']\n",
    "        \n",
    "\n",
    "    for other_data in spec_data_dict['data']:\n",
    "        for car_spec in other_data['list']:\n",
    "            # numberofcylinders\n",
    "            if car_spec['key'] == 'No of Cylinder':\n",
    "                    number_of_cylinders = car_spec['value']\n",
    "\n",
    "            # valves_per_cylinder\n",
    "            if car_spec['key'] == 'Values per Cylinder':\n",
    "                    valves_per_cylinder = car_spec['value']\n",
    "\n",
    "            # Turbo Charger\n",
    "            if car_spec['key'] == 'Turbo Charger':\n",
    "                    turbo_charger = car_spec['value']\n",
    "\n",
    "            # Super Charger\n",
    "            if car_spec['key'] == 'Super Charger':\n",
    "                    super_charger = car_spec['value']\n",
    "\n",
    "            # Gear box\n",
    "            if car_spec['key'] == 'Gear Box':\n",
    "                    gear_box = car_spec['value']\n",
    "                \n",
    "            # Drive Type\n",
    "            if car_spec['key'] == 'Drive Type':\n",
    "                    drive_type = car_spec['value']\n",
    "\n",
    "            # steeringtype\n",
    "            if car_spec['key'] == 'Steering Type':\n",
    "                    steering_type = car_spec['value']\n",
    "\n",
    "            # top speed \n",
    "            if car_spec['key'] == 'Top Speed':\n",
    "                    top_speed = car_spec['value']\n",
    "\n",
    "            # Cargo Volume\n",
    "            if car_spec['key'] == 'Cargo Volumn':\n",
    "                    cargo_volume = car_spec['value']\n",
    "\n",
    "\n",
    "    dict3 = {\n",
    "            'mileage(kmpl)': mileage,\n",
    "            'engine(CC)': engine,\n",
    "            'max_power(bhp)': max_power,\n",
    "            'torque(nm)': torque,\n",
    "            'seats': seats,\n",
    "            'number_of_cylinders': number_of_cylinders,\n",
    "            'valves_per_cylinder': valves_per_cylinder,\n",
    "            'super_charger': super_charger,\n",
    "            'turbo_charger': turbo_charger,\n",
    "            'gear_box': gear_box,\n",
    "            'drive_type': drive_type,\n",
    "            'steering_type': steering_type,\n",
    "            'top_speed': top_speed,\n",
    "            'cargo_volume': cargo_volume,\n",
    "            'location': 'Bangalore'\n",
    "        }\n",
    "\n",
    "    car_specs_b.append(dict3)"
   ]
  },
  {
   "cell_type": "code",
   "execution_count": 10,
   "metadata": {},
   "outputs": [],
   "source": [
    "df1_b = pd.DataFrame(data = car_details_b)\n",
    "df2_b = pd.DataFrame(data = car_insurance_b)\n",
    "df3_b = pd.DataFrame(data = car_specs_b)\n",
    "\n",
    "final_df_b = pd.concat([df1_b, df2_b, df3_b], axis = 1)"
   ]
  },
  {
   "cell_type": "code",
   "execution_count": 12,
   "metadata": {},
   "outputs": [
    {
     "data": {
      "text/plain": [
       "(1481, 24)"
      ]
     },
     "execution_count": 12,
     "metadata": {},
     "output_type": "execute_result"
    }
   ],
   "source": [
    "final_df_b.shape"
   ]
  },
  {
   "cell_type": "code",
   "execution_count": 13,
   "metadata": {},
   "outputs": [],
   "source": [
    "final_df_b.to_csv(r'F:\\GUVI_DATA_SCIENCE\\Project\\CarDekho-Used-Car-Price-Prediction\\Datasets\\Processed_datasets\\bangalore.csv', index = False)"
   ]
  },
  {
   "cell_type": "markdown",
   "metadata": {},
   "source": [
    "##### **Chennai**"
   ]
  },
  {
   "cell_type": "code",
   "execution_count": 14,
   "metadata": {},
   "outputs": [],
   "source": [
    "chennai_df = pd.read_excel(r'F:\\GUVI_DATA_SCIENCE\\Project\\CarDekho-Used-Car-Price-Prediction\\Datasets\\chennai_cars.xlsx')"
   ]
  },
  {
   "cell_type": "code",
   "execution_count": 15,
   "metadata": {},
   "outputs": [
    {
     "data": {
      "text/plain": [
       "(1419, 5)"
      ]
     },
     "execution_count": 15,
     "metadata": {},
     "output_type": "execute_result"
    }
   ],
   "source": [
    "chennai_df.shape"
   ]
  },
  {
   "cell_type": "code",
   "execution_count": 16,
   "metadata": {},
   "outputs": [
    {
     "data": {
      "text/plain": [
       "new_car_detail      0\n",
       "new_car_overview    0\n",
       "new_car_feature     0\n",
       "new_car_specs       0\n",
       "car_links           0\n",
       "dtype: int64"
      ]
     },
     "execution_count": 16,
     "metadata": {},
     "output_type": "execute_result"
    }
   ],
   "source": [
    "chennai_df.isnull().sum()"
   ]
  },
  {
   "cell_type": "code",
   "execution_count": 17,
   "metadata": {},
   "outputs": [
    {
     "data": {
      "text/plain": [
       "0"
      ]
     },
     "execution_count": 17,
     "metadata": {},
     "output_type": "execute_result"
    }
   ],
   "source": [
    "chennai_df.duplicated().sum()"
   ]
  },
  {
   "cell_type": "code",
   "execution_count": 22,
   "metadata": {},
   "outputs": [],
   "source": [
    "car_details_c = []\n",
    "car_insurance_c = []\n",
    "car_specs_c = []\n",
    "\n",
    "for detail in chennai_df['new_car_detail']:\n",
    "    data_dict = eval(detail)\n",
    "\n",
    "    # manufacturer\n",
    "    oem = data_dict['oem']\n",
    "\n",
    "    # modelYear\n",
    "    model_year = data_dict['modelYear']\n",
    "\n",
    "    # bodytype\n",
    "    body_type = data_dict['bt']\n",
    "\n",
    "    # transmission type\n",
    "    transmission_type = data_dict['transmission']\n",
    "\n",
    "    # fuel type\n",
    "    fuel_type = data_dict['ft']\n",
    "\n",
    "    # total_kms\n",
    "    total_kms = data_dict['km']\n",
    "    total_kms = total_kms.replace(',', '')\n",
    "    total_kms = int(total_kms)\n",
    "\n",
    "    # number of owners\n",
    "    total_owners = data_dict['ownerNo']    \n",
    "\n",
    "    # price\n",
    "    price = data_dict['price']\n",
    "\n",
    "    if 'Lakh' in price:\n",
    "        price = price.replace('Lakh', '')\n",
    "        price = price.replace('₹', '')\n",
    "        converted_price = round((float(price) * 100000), 0)\n",
    "        \n",
    "    elif 'Crore' in price:\n",
    "        price = price.replace('Crore', '')\n",
    "        price = price.replace('₹', '')\n",
    "        converted_price = round((float(price) * 10000000), 0)\n",
    "\n",
    "    dict1 = {'manufacturer': oem,\n",
    "            'model_year': model_year,\n",
    "            'body_type': body_type,\n",
    "            'transmission_type': transmission_type,\n",
    "            'fuel_type': fuel_type,\n",
    "            'total_kms': total_kms,\n",
    "            'total_owners': total_owners,\n",
    "            'price': converted_price,}\n",
    "    \n",
    "    car_details_c.append(dict1)\n",
    "\n",
    "for insurance in chennai_df['new_car_overview']:\n",
    "    insurance_dict = eval(insurance)\n",
    "    \n",
    "    for top_data in insurance_dict['top']:\n",
    "        if top_data['key'] == 'Insurance Validity':\n",
    "            insurance_type = top_data['value']\n",
    "                    \n",
    "    dict2 = {'insurance_type': insurance_type,}\n",
    "    \n",
    "    car_insurance_c.append(dict2)\n",
    "\n",
    "for spec in chennai_df['new_car_specs']:\n",
    "\n",
    "    spec_data_dict = eval(spec)\n",
    "\n",
    "    for top_data in spec_data_dict['top']:\n",
    "        if top_data['key'] == 'Mileage':\n",
    "            mileage = top_data['value']\n",
    "\n",
    "        if top_data['key'] == 'Engine':\n",
    "            engine = top_data['value']\n",
    "\n",
    "        if top_data['key'] == 'Max Power':\n",
    "            max_power = top_data['value']\n",
    "\n",
    "        if top_data['key'] == 'Torque':\n",
    "            torque = top_data['value']\n",
    "\n",
    "        if top_data['key'] == 'Seats':\n",
    "            seats = top_data['value']\n",
    "        \n",
    "\n",
    "    for other_data in spec_data_dict['data']:\n",
    "        for car_spec in other_data['list']:\n",
    "            # numberofcylinders\n",
    "            if car_spec['key'] == 'No of Cylinder':\n",
    "                    number_of_cylinders = car_spec['value']\n",
    "\n",
    "            # valves_per_cylinder\n",
    "            if car_spec['key'] == 'Values per Cylinder':\n",
    "                    valves_per_cylinder = car_spec['value']\n",
    "\n",
    "            # Turbo Charger\n",
    "            if car_spec['key'] == 'Turbo Charger':\n",
    "                    turbo_charger = car_spec['value']\n",
    "\n",
    "            # Super Charger\n",
    "            if car_spec['key'] == 'Super Charger':\n",
    "                    super_charger = car_spec['value']\n",
    "\n",
    "            # Gear box\n",
    "            if car_spec['key'] == 'Gear Box':\n",
    "                    gear_box = car_spec['value']\n",
    "                \n",
    "            # Drive Type\n",
    "            if car_spec['key'] == 'Drive Type':\n",
    "                    drive_type = car_spec['value']\n",
    "\n",
    "            # steeringtype\n",
    "            if car_spec['key'] == 'Steering Type':\n",
    "                    steering_type = car_spec['value']\n",
    "\n",
    "            # top speed \n",
    "            if car_spec['key'] == 'Top Speed':\n",
    "                    top_speed = car_spec['value']\n",
    "\n",
    "            # Cargo Volume\n",
    "            if car_spec['key'] == 'Cargo Volumn':\n",
    "                    cargo_volume = car_spec['value']\n",
    "\n",
    "\n",
    "    dict3 = {\n",
    "            'mileage(kmpl)': mileage,\n",
    "            'engine(CC)': engine,\n",
    "            'max_power(bhp)': max_power,\n",
    "            'torque(nm)': torque,\n",
    "            'seats': seats,\n",
    "            'number_of_cylinders': number_of_cylinders,\n",
    "            'valves_per_cylinder': valves_per_cylinder,\n",
    "            'super_charger': super_charger,\n",
    "            'turbo_charger': turbo_charger,\n",
    "            'gear_box': gear_box,\n",
    "            'drive_type': drive_type,\n",
    "            'steering_type': steering_type,\n",
    "            'top_speed': top_speed,\n",
    "            'cargo_volume': cargo_volume,\n",
    "            'location': 'Chennai'\n",
    "        }\n",
    "\n",
    "    car_specs_c.append(dict3)"
   ]
  },
  {
   "cell_type": "code",
   "execution_count": 23,
   "metadata": {},
   "outputs": [],
   "source": [
    "df1_c = pd.DataFrame(data = car_details_c)\n",
    "df2_c = pd.DataFrame(data = car_insurance_c)\n",
    "df3_c = pd.DataFrame(data = car_specs_c)\n",
    "\n",
    "final_df_c = pd.concat([df1_c, df2_c, df3_c], axis = 1)"
   ]
  },
  {
   "cell_type": "code",
   "execution_count": 25,
   "metadata": {},
   "outputs": [
    {
     "data": {
      "text/plain": [
       "(1419, 24)"
      ]
     },
     "execution_count": 25,
     "metadata": {},
     "output_type": "execute_result"
    }
   ],
   "source": [
    "final_df_c.shape"
   ]
  },
  {
   "cell_type": "code",
   "execution_count": 37,
   "metadata": {},
   "outputs": [],
   "source": [
    "final_df_c.to_csv(r'F:\\GUVI_DATA_SCIENCE\\Project\\CarDekho-Used-Car-Price-Prediction\\Datasets\\Processed_datasets\\chennai.csv', index = False)"
   ]
  },
  {
   "cell_type": "markdown",
   "metadata": {},
   "source": [
    "##### **Delhi**"
   ]
  },
  {
   "cell_type": "code",
   "execution_count": 27,
   "metadata": {},
   "outputs": [],
   "source": [
    "delhi_df = pd.read_excel(r'F:\\GUVI_DATA_SCIENCE\\Project\\CarDekho-Used-Car-Price-Prediction\\Datasets\\delhi_cars.xlsx')"
   ]
  },
  {
   "cell_type": "code",
   "execution_count": 28,
   "metadata": {},
   "outputs": [
    {
     "data": {
      "text/plain": [
       "(1485, 5)"
      ]
     },
     "execution_count": 28,
     "metadata": {},
     "output_type": "execute_result"
    }
   ],
   "source": [
    "delhi_df.shape"
   ]
  },
  {
   "cell_type": "code",
   "execution_count": 29,
   "metadata": {},
   "outputs": [
    {
     "data": {
      "text/plain": [
       "new_car_detail      0\n",
       "new_car_overview    0\n",
       "new_car_feature     0\n",
       "new_car_specs       0\n",
       "car_links           0\n",
       "dtype: int64"
      ]
     },
     "execution_count": 29,
     "metadata": {},
     "output_type": "execute_result"
    }
   ],
   "source": [
    "delhi_df.isnull().sum()"
   ]
  },
  {
   "cell_type": "code",
   "execution_count": 30,
   "metadata": {},
   "outputs": [
    {
     "data": {
      "text/plain": [
       "0"
      ]
     },
     "execution_count": 30,
     "metadata": {},
     "output_type": "execute_result"
    }
   ],
   "source": [
    "delhi_df.duplicated().sum()"
   ]
  },
  {
   "cell_type": "code",
   "execution_count": 31,
   "metadata": {},
   "outputs": [],
   "source": [
    "car_details_d = []\n",
    "car_insurance_d = []\n",
    "car_specs_d = []\n",
    "\n",
    "for detail in delhi_df['new_car_detail']:\n",
    "    data_dict = eval(detail)\n",
    "\n",
    "    # manufacturer\n",
    "    oem = data_dict['oem']\n",
    "\n",
    "    # modelYear\n",
    "    model_year = data_dict['modelYear']\n",
    "\n",
    "    # bodytype\n",
    "    body_type = data_dict['bt']\n",
    "\n",
    "    # transmission type\n",
    "    transmission_type = data_dict['transmission']\n",
    "\n",
    "    # fuel type\n",
    "    fuel_type = data_dict['ft']\n",
    "\n",
    "    # total_kms\n",
    "    total_kms = data_dict['km']\n",
    "    total_kms = total_kms.replace(',', '')\n",
    "    total_kms = int(total_kms)\n",
    "\n",
    "    # number of owners\n",
    "    total_owners = data_dict['ownerNo']    \n",
    "\n",
    "    # price\n",
    "    price = data_dict['price']\n",
    "\n",
    "    if 'Lakh' in price:\n",
    "        price = price.replace('Lakh', '')\n",
    "        price = price.replace('₹', '')\n",
    "        converted_price = round((float(price) * 100000), 0)\n",
    "        \n",
    "    elif 'Crore' in price:\n",
    "        price = price.replace('Crore', '')\n",
    "        price = price.replace('₹', '')\n",
    "        converted_price = round((float(price) * 10000000), 0)\n",
    "\n",
    "    dict1 = {'manufacturer': oem,\n",
    "            'model_year': model_year,\n",
    "            'body_type': body_type,\n",
    "            'transmission_type': transmission_type,\n",
    "            'fuel_type': fuel_type,\n",
    "            'total_kms': total_kms,\n",
    "            'total_owners': total_owners,\n",
    "            'price': converted_price,}\n",
    "    \n",
    "    car_details_d.append(dict1)\n",
    "\n",
    "for insurance in delhi_df['new_car_overview']:\n",
    "    insurance_dict = eval(insurance)\n",
    "    \n",
    "    for top_data in insurance_dict['top']:\n",
    "        if top_data['key'] == 'Insurance Validity':\n",
    "            insurance_type = top_data['value']\n",
    "                    \n",
    "    dict2 = {'insurance_type': insurance_type,}\n",
    "    \n",
    "    car_insurance_d.append(dict2)\n",
    "\n",
    "for spec in delhi_df['new_car_specs']:\n",
    "\n",
    "    spec_data_dict = eval(spec)\n",
    "\n",
    "    for top_data in spec_data_dict['top']:\n",
    "        if top_data['key'] == 'Mileage':\n",
    "            mileage = top_data['value']\n",
    "\n",
    "        if top_data['key'] == 'Engine':\n",
    "            engine = top_data['value']\n",
    "\n",
    "        if top_data['key'] == 'Max Power':\n",
    "            max_power = top_data['value']\n",
    "\n",
    "        if top_data['key'] == 'Torque':\n",
    "            torque = top_data['value']\n",
    "\n",
    "        if top_data['key'] == 'Seats':\n",
    "            seats = top_data['value']\n",
    "        \n",
    "\n",
    "    for other_data in spec_data_dict['data']:\n",
    "        for car_spec in other_data['list']:\n",
    "            # numberofcylinders\n",
    "            if car_spec['key'] == 'No of Cylinder':\n",
    "                    number_of_cylinders = car_spec['value']\n",
    "\n",
    "            # valves_per_cylinder\n",
    "            if car_spec['key'] == 'Values per Cylinder':\n",
    "                    valves_per_cylinder = car_spec['value']\n",
    "\n",
    "            # Turbo Charger\n",
    "            if car_spec['key'] == 'Turbo Charger':\n",
    "                    turbo_charger = car_spec['value']\n",
    "\n",
    "            # Super Charger\n",
    "            if car_spec['key'] == 'Super Charger':\n",
    "                    super_charger = car_spec['value']\n",
    "\n",
    "            # Gear box\n",
    "            if car_spec['key'] == 'Gear Box':\n",
    "                    gear_box = car_spec['value']\n",
    "                \n",
    "            # Drive Type\n",
    "            if car_spec['key'] == 'Drive Type':\n",
    "                    drive_type = car_spec['value']\n",
    "\n",
    "            # steeringtype\n",
    "            if car_spec['key'] == 'Steering Type':\n",
    "                    steering_type = car_spec['value']\n",
    "\n",
    "            # top speed \n",
    "            if car_spec['key'] == 'Top Speed':\n",
    "                    top_speed = car_spec['value']\n",
    "\n",
    "            # Cargo Volume\n",
    "            if car_spec['key'] == 'Cargo Volumn':\n",
    "                    cargo_volume = car_spec['value']\n",
    "\n",
    "\n",
    "    dict3 = {\n",
    "            'mileage(kmpl)': mileage,\n",
    "            'engine(CC)': engine,\n",
    "            'max_power(bhp)': max_power,\n",
    "            'torque(nm)': torque,\n",
    "            'seats': seats,\n",
    "            'number_of_cylinders': number_of_cylinders,\n",
    "            'valves_per_cylinder': valves_per_cylinder,\n",
    "            'super_charger': super_charger,\n",
    "            'turbo_charger': turbo_charger,\n",
    "            'gear_box': gear_box,\n",
    "            'drive_type': drive_type,\n",
    "            'steering_type': steering_type,\n",
    "            'top_speed': top_speed,\n",
    "            'cargo_volume': cargo_volume,\n",
    "            'location': 'Delhi'\n",
    "        }\n",
    "\n",
    "    car_specs_d.append(dict3)"
   ]
  },
  {
   "cell_type": "code",
   "execution_count": 32,
   "metadata": {},
   "outputs": [],
   "source": [
    "df1_d= pd.DataFrame(data = car_details_d)\n",
    "df2_d = pd.DataFrame(data = car_insurance_d)\n",
    "df3_d = pd.DataFrame(data = car_specs_d)\n",
    "\n",
    "final_df_d = pd.concat([df1_d, df2_d, df3_d], axis = 1)"
   ]
  },
  {
   "cell_type": "code",
   "execution_count": 35,
   "metadata": {},
   "outputs": [
    {
     "data": {
      "text/plain": [
       "(1485, 24)"
      ]
     },
     "execution_count": 35,
     "metadata": {},
     "output_type": "execute_result"
    }
   ],
   "source": [
    "final_df_d.shape"
   ]
  },
  {
   "cell_type": "code",
   "execution_count": 38,
   "metadata": {},
   "outputs": [],
   "source": [
    "final_df_d.to_csv(r'F:\\GUVI_DATA_SCIENCE\\Project\\CarDekho-Used-Car-Price-Prediction\\Datasets\\Processed_datasets\\delhi.csv', index = False)"
   ]
  },
  {
   "cell_type": "markdown",
   "metadata": {},
   "source": [
    "##### **Hyderabad**"
   ]
  },
  {
   "cell_type": "code",
   "execution_count": 41,
   "metadata": {},
   "outputs": [],
   "source": [
    "hyderabad_df = pd.read_excel(r'F:\\GUVI_DATA_SCIENCE\\Project\\CarDekho-Used-Car-Price-Prediction\\Datasets\\hyderabad_cars.xlsx')"
   ]
  },
  {
   "cell_type": "code",
   "execution_count": 42,
   "metadata": {},
   "outputs": [
    {
     "data": {
      "text/plain": [
       "(1483, 5)"
      ]
     },
     "execution_count": 42,
     "metadata": {},
     "output_type": "execute_result"
    }
   ],
   "source": [
    "hyderabad_df.shape"
   ]
  },
  {
   "cell_type": "code",
   "execution_count": 43,
   "metadata": {},
   "outputs": [
    {
     "data": {
      "text/plain": [
       "new_car_detail      0\n",
       "new_car_overview    0\n",
       "new_car_feature     0\n",
       "new_car_specs       0\n",
       "car_links           0\n",
       "dtype: int64"
      ]
     },
     "execution_count": 43,
     "metadata": {},
     "output_type": "execute_result"
    }
   ],
   "source": [
    "hyderabad_df.isnull().sum()"
   ]
  },
  {
   "cell_type": "code",
   "execution_count": 44,
   "metadata": {},
   "outputs": [
    {
     "data": {
      "text/plain": [
       "0"
      ]
     },
     "execution_count": 44,
     "metadata": {},
     "output_type": "execute_result"
    }
   ],
   "source": [
    "hyderabad_df.duplicated().sum()"
   ]
  },
  {
   "cell_type": "code",
   "execution_count": 49,
   "metadata": {},
   "outputs": [],
   "source": [
    "car_details_h = []\n",
    "car_insurance_h = []\n",
    "car_specs_h = []\n",
    "\n",
    "for detail in hyderabad_df['new_car_detail']:\n",
    "    data_dict = eval(detail)\n",
    "\n",
    "    # manufacturer\n",
    "    oem = data_dict['oem']\n",
    "\n",
    "    # modelYear\n",
    "    model_year = data_dict['modelYear']\n",
    "\n",
    "    # bodytype\n",
    "    body_type = data_dict['bt']\n",
    "\n",
    "    # transmission type\n",
    "    transmission_type = data_dict['transmission']\n",
    "\n",
    "    # fuel type\n",
    "    fuel_type = data_dict['ft']\n",
    "\n",
    "    # total_kms\n",
    "    total_kms = data_dict['km']\n",
    "    total_kms = total_kms.replace(',', '')\n",
    "    total_kms = int(total_kms)\n",
    "\n",
    "    # number of owners\n",
    "    total_owners = data_dict['ownerNo']    \n",
    "\n",
    "    # price\n",
    "    price = data_dict['price']\n",
    "\n",
    "    if 'Lakh' in price:\n",
    "        price = price.replace('Lakh', '')\n",
    "        price = price.replace('₹', '')\n",
    "        converted_price = round((float(price) * 100000), 0)\n",
    "        \n",
    "    elif 'Crore' in price:\n",
    "        price = price.replace('Crore', '')\n",
    "        price = price.replace('₹', '')\n",
    "        converted_price = round((float(price) * 10000000), 0)\n",
    "\n",
    "    dict1 = {'manufacturer': oem,\n",
    "            'model_year': model_year,\n",
    "            'body_type': body_type,\n",
    "            'transmission_type': transmission_type,\n",
    "            'fuel_type': fuel_type,\n",
    "            'total_kms': total_kms,\n",
    "            'total_owners': total_owners,\n",
    "            'price': converted_price,}\n",
    "    \n",
    "    car_details_h.append(dict1)\n",
    "\n",
    "for insurance in hyderabad_df['new_car_overview']:\n",
    "    insurance_dict = eval(insurance)\n",
    "    \n",
    "    for top_data in insurance_dict['top']:\n",
    "        if top_data['key'] == 'Insurance Validity':\n",
    "            insurance_type = top_data['value']\n",
    "                    \n",
    "    dict2 = {'insurance_type': insurance_type,}\n",
    "    \n",
    "    car_insurance_h.append(dict2)\n",
    "\n",
    "for spec in hyderabad_df['new_car_specs']:\n",
    "\n",
    "    spec_data_dict = eval(spec)\n",
    "\n",
    "    for top_data in spec_data_dict['top']:\n",
    "        if top_data['key'] == 'Mileage':\n",
    "            mileage = top_data['value']\n",
    "\n",
    "        if top_data['key'] == 'Engine':\n",
    "            engine = top_data['value']\n",
    "\n",
    "        if top_data['key'] == 'Max Power':\n",
    "            max_power = top_data['value']\n",
    "\n",
    "        if top_data['key'] == 'Torque':\n",
    "            torque = top_data['value']\n",
    "\n",
    "        if top_data['key'] == 'Seats':\n",
    "            seats = top_data['value']\n",
    "        \n",
    "\n",
    "    for other_data in spec_data_dict['data']:\n",
    "        for car_spec in other_data['list']:\n",
    "            # numberofcylinders\n",
    "            if car_spec['key'] == 'No of Cylinder':\n",
    "                    number_of_cylinders = car_spec['value']\n",
    "\n",
    "            # valves_per_cylinder\n",
    "            if car_spec['key'] == 'Values per Cylinder':\n",
    "                    valves_per_cylinder = car_spec['value']\n",
    "\n",
    "            # Turbo Charger\n",
    "            if car_spec['key'] == 'Turbo Charger':\n",
    "                    turbo_charger = car_spec['value']\n",
    "\n",
    "            # Super Charger\n",
    "            if car_spec['key'] == 'Super Charger':\n",
    "                    super_charger = car_spec['value']\n",
    "\n",
    "            # Gear box\n",
    "            if car_spec['key'] == 'Gear Box':\n",
    "                    gear_box = car_spec['value']\n",
    "                \n",
    "            # Drive Type\n",
    "            if car_spec['key'] == 'Drive Type':\n",
    "                    drive_type = car_spec['value']\n",
    "\n",
    "            # steeringtype\n",
    "            if car_spec['key'] == 'Steering Type':\n",
    "                    steering_type = car_spec['value']\n",
    "\n",
    "            # top speed \n",
    "            if car_spec['key'] == 'Top Speed':\n",
    "                    top_speed = car_spec['value']\n",
    "\n",
    "            # Cargo Volume\n",
    "            if car_spec['key'] == 'Cargo Volumn':\n",
    "                    cargo_volume = car_spec['value']\n",
    "\n",
    "\n",
    "    dict3 = {\n",
    "            'mileage(kmpl)': mileage,\n",
    "            'engine(CC)': engine,\n",
    "            'max_power(bhp)': max_power,\n",
    "            'torque(nm)': torque,\n",
    "            'seats': seats,\n",
    "            'number_of_cylinders': number_of_cylinders,\n",
    "            'valves_per_cylinder': valves_per_cylinder,\n",
    "            'super_charger': super_charger,\n",
    "            'turbo_charger': turbo_charger,\n",
    "            'gear_box': gear_box,\n",
    "            'drive_type': drive_type,\n",
    "            'steering_type': steering_type,\n",
    "            'top_speed': top_speed,\n",
    "            'cargo_volume': cargo_volume,\n",
    "            'location': 'Hyderabad'\n",
    "        }\n",
    "\n",
    "    car_specs_h.append(dict3)"
   ]
  },
  {
   "cell_type": "code",
   "execution_count": 50,
   "metadata": {},
   "outputs": [],
   "source": [
    "df1_h = pd.DataFrame(data = car_details_h)\n",
    "df2_h = pd.DataFrame(data = car_insurance_h)\n",
    "df3_h = pd.DataFrame(data = car_specs_h)\n",
    "\n",
    "final_df_h = pd.concat([df1_h, df2_h, df3_h], axis = 1)"
   ]
  },
  {
   "cell_type": "code",
   "execution_count": 51,
   "metadata": {},
   "outputs": [
    {
     "data": {
      "text/plain": [
       "(1483, 24)"
      ]
     },
     "execution_count": 51,
     "metadata": {},
     "output_type": "execute_result"
    }
   ],
   "source": [
    "final_df_h.shape"
   ]
  },
  {
   "cell_type": "code",
   "execution_count": 53,
   "metadata": {},
   "outputs": [],
   "source": [
    "final_df_h.to_csv(r'F:\\GUVI_DATA_SCIENCE\\Project\\CarDekho-Used-Car-Price-Prediction\\Datasets\\Processed_datasets\\hyderabad.csv', index = False)"
   ]
  },
  {
   "cell_type": "markdown",
   "metadata": {},
   "source": [
    "##### **Jaipur**"
   ]
  },
  {
   "cell_type": "code",
   "execution_count": 54,
   "metadata": {},
   "outputs": [],
   "source": [
    "jaipur_df = pd.read_excel(r'F:\\GUVI_DATA_SCIENCE\\Project\\CarDekho-Used-Car-Price-Prediction\\Datasets\\jaipur_cars.xlsx')"
   ]
  },
  {
   "cell_type": "code",
   "execution_count": 55,
   "metadata": {},
   "outputs": [
    {
     "data": {
      "text/plain": [
       "(1120, 5)"
      ]
     },
     "execution_count": 55,
     "metadata": {},
     "output_type": "execute_result"
    }
   ],
   "source": [
    "jaipur_df.shape"
   ]
  },
  {
   "cell_type": "code",
   "execution_count": 56,
   "metadata": {},
   "outputs": [
    {
     "data": {
      "text/plain": [
       "new_car_detail      0\n",
       "new_car_overview    0\n",
       "new_car_feature     0\n",
       "new_car_specs       0\n",
       "car_links           0\n",
       "dtype: int64"
      ]
     },
     "execution_count": 56,
     "metadata": {},
     "output_type": "execute_result"
    }
   ],
   "source": [
    "jaipur_df.isnull().sum()"
   ]
  },
  {
   "cell_type": "code",
   "execution_count": 57,
   "metadata": {},
   "outputs": [
    {
     "data": {
      "text/plain": [
       "0"
      ]
     },
     "execution_count": 57,
     "metadata": {},
     "output_type": "execute_result"
    }
   ],
   "source": [
    "jaipur_df.duplicated().sum()"
   ]
  },
  {
   "cell_type": "code",
   "execution_count": 58,
   "metadata": {},
   "outputs": [],
   "source": [
    "car_details_j = []\n",
    "car_insurance_j = []\n",
    "car_specs_j = []\n",
    "\n",
    "for detail in jaipur_df['new_car_detail']:\n",
    "    data_dict = eval(detail)\n",
    "\n",
    "    # manufacturer\n",
    "    oem = data_dict['oem']\n",
    "\n",
    "    # modelYear\n",
    "    model_year = data_dict['modelYear']\n",
    "\n",
    "    # bodytype\n",
    "    body_type = data_dict['bt']\n",
    "\n",
    "    # transmission type\n",
    "    transmission_type = data_dict['transmission']\n",
    "\n",
    "    # fuel type\n",
    "    fuel_type = data_dict['ft']\n",
    "\n",
    "    # total_kms\n",
    "    total_kms = data_dict['km']\n",
    "    total_kms = total_kms.replace(',', '')\n",
    "    total_kms = int(total_kms)\n",
    "\n",
    "    # number of owners\n",
    "    total_owners = data_dict['ownerNo']    \n",
    "\n",
    "    # price\n",
    "    price = data_dict['price']\n",
    "\n",
    "    if 'Lakh' in price:\n",
    "        price = price.replace('Lakh', '')\n",
    "        price = price.replace('₹', '')\n",
    "        converted_price = round((float(price) * 100000), 0)\n",
    "        \n",
    "    elif 'Crore' in price:\n",
    "        price = price.replace('Crore', '')\n",
    "        price = price.replace('₹', '')\n",
    "        converted_price = round((float(price) * 10000000), 0)\n",
    "\n",
    "    dict1 = {'manufacturer': oem,\n",
    "            'model_year': model_year,\n",
    "            'body_type': body_type,\n",
    "            'transmission_type': transmission_type,\n",
    "            'fuel_type': fuel_type,\n",
    "            'total_kms': total_kms,\n",
    "            'total_owners': total_owners,\n",
    "            'price': converted_price,}\n",
    "    \n",
    "    car_details_j.append(dict1)\n",
    "\n",
    "for insurance in jaipur_df['new_car_overview']:\n",
    "    insurance_dict = eval(insurance)\n",
    "    \n",
    "    for top_data in insurance_dict['top']:\n",
    "        if top_data['key'] == 'Insurance Validity':\n",
    "            insurance_type = top_data['value']\n",
    "                    \n",
    "    dict2 = {'insurance_type': insurance_type,}\n",
    "    \n",
    "    car_insurance_j.append(dict2)\n",
    "\n",
    "for spec in jaipur_df['new_car_specs']:\n",
    "\n",
    "    spec_data_dict = eval(spec)\n",
    "\n",
    "    for top_data in spec_data_dict['top']:\n",
    "        if top_data['key'] == 'Mileage':\n",
    "            mileage = top_data['value']\n",
    "\n",
    "        if top_data['key'] == 'Engine':\n",
    "            engine = top_data['value']\n",
    "\n",
    "        if top_data['key'] == 'Max Power':\n",
    "            max_power = top_data['value']\n",
    "\n",
    "        if top_data['key'] == 'Torque':\n",
    "            torque = top_data['value']\n",
    "\n",
    "        if top_data['key'] == 'Seats':\n",
    "            seats = top_data['value']\n",
    "        \n",
    "\n",
    "    for other_data in spec_data_dict['data']:\n",
    "        for car_spec in other_data['list']:\n",
    "            # numberofcylinders\n",
    "            if car_spec['key'] == 'No of Cylinder':\n",
    "                    number_of_cylinders = car_spec['value']\n",
    "\n",
    "            # valves_per_cylinder\n",
    "            if car_spec['key'] == 'Values per Cylinder':\n",
    "                    valves_per_cylinder = car_spec['value']\n",
    "\n",
    "            # Turbo Charger\n",
    "            if car_spec['key'] == 'Turbo Charger':\n",
    "                    turbo_charger = car_spec['value']\n",
    "\n",
    "            # Super Charger\n",
    "            if car_spec['key'] == 'Super Charger':\n",
    "                    super_charger = car_spec['value']\n",
    "\n",
    "            # Gear box\n",
    "            if car_spec['key'] == 'Gear Box':\n",
    "                    gear_box = car_spec['value']\n",
    "                \n",
    "            # Drive Type\n",
    "            if car_spec['key'] == 'Drive Type':\n",
    "                    drive_type = car_spec['value']\n",
    "\n",
    "            # steeringtype\n",
    "            if car_spec['key'] == 'Steering Type':\n",
    "                    steering_type = car_spec['value']\n",
    "\n",
    "            # top speed \n",
    "            if car_spec['key'] == 'Top Speed':\n",
    "                    top_speed = car_spec['value']\n",
    "\n",
    "            # Cargo Volume\n",
    "            if car_spec['key'] == 'Cargo Volumn':\n",
    "                    cargo_volume = car_spec['value']\n",
    "\n",
    "\n",
    "    dict3 = {\n",
    "            'mileage(kmpl)': mileage,\n",
    "            'engine(CC)': engine,\n",
    "            'max_power(bhp)': max_power,\n",
    "            'torque(nm)': torque,\n",
    "            'seats': seats,\n",
    "            'number_of_cylinders': number_of_cylinders,\n",
    "            'valves_per_cylinder': valves_per_cylinder,\n",
    "            'super_charger': super_charger,\n",
    "            'turbo_charger': turbo_charger,\n",
    "            'gear_box': gear_box,\n",
    "            'drive_type': drive_type,\n",
    "            'steering_type': steering_type,\n",
    "            'top_speed': top_speed,\n",
    "            'cargo_volume': cargo_volume,\n",
    "            'location': 'Jaipur'\n",
    "        }\n",
    "\n",
    "    car_specs_j.append(dict3)"
   ]
  },
  {
   "cell_type": "code",
   "execution_count": 60,
   "metadata": {},
   "outputs": [],
   "source": [
    "df1_j = pd.DataFrame(data = car_details_j)\n",
    "df2_j = pd.DataFrame(data = car_insurance_j)\n",
    "df3_j = pd.DataFrame(data = car_specs_j)\n",
    "\n",
    "final_df_j = pd.concat([df1_j, df2_j, df3_j], axis = 1)"
   ]
  },
  {
   "cell_type": "code",
   "execution_count": 61,
   "metadata": {},
   "outputs": [
    {
     "data": {
      "text/plain": [
       "(1120, 24)"
      ]
     },
     "execution_count": 61,
     "metadata": {},
     "output_type": "execute_result"
    }
   ],
   "source": [
    "final_df_j.shape"
   ]
  },
  {
   "cell_type": "code",
   "execution_count": 62,
   "metadata": {},
   "outputs": [],
   "source": [
    "final_df_j.to_csv(r'F:\\GUVI_DATA_SCIENCE\\Project\\CarDekho-Used-Car-Price-Prediction\\Datasets\\Processed_datasets\\jaipur.csv', index = False)"
   ]
  },
  {
   "cell_type": "markdown",
   "metadata": {},
   "source": [
    "##### **Kolkata**"
   ]
  },
  {
   "cell_type": "code",
   "execution_count": 63,
   "metadata": {},
   "outputs": [],
   "source": [
    "kolkata_df = pd.read_excel(r'F:\\GUVI_DATA_SCIENCE\\Project\\CarDekho-Used-Car-Price-Prediction\\Datasets\\kolkata_cars.xlsx')"
   ]
  },
  {
   "cell_type": "code",
   "execution_count": 64,
   "metadata": {},
   "outputs": [
    {
     "data": {
      "text/plain": [
       "(1381, 5)"
      ]
     },
     "execution_count": 64,
     "metadata": {},
     "output_type": "execute_result"
    }
   ],
   "source": [
    "kolkata_df.shape"
   ]
  },
  {
   "cell_type": "code",
   "execution_count": 65,
   "metadata": {},
   "outputs": [
    {
     "data": {
      "text/plain": [
       "new_car_detail      0\n",
       "new_car_overview    0\n",
       "new_car_feature     0\n",
       "new_car_specs       0\n",
       "car_links           0\n",
       "dtype: int64"
      ]
     },
     "execution_count": 65,
     "metadata": {},
     "output_type": "execute_result"
    }
   ],
   "source": [
    "kolkata_df.isnull().sum()"
   ]
  },
  {
   "cell_type": "code",
   "execution_count": 66,
   "metadata": {},
   "outputs": [
    {
     "data": {
      "text/plain": [
       "0"
      ]
     },
     "execution_count": 66,
     "metadata": {},
     "output_type": "execute_result"
    }
   ],
   "source": [
    "kolkata_df.duplicated().sum()"
   ]
  },
  {
   "cell_type": "code",
   "execution_count": 67,
   "metadata": {},
   "outputs": [],
   "source": [
    "car_details_k = []\n",
    "car_insurance_k = []\n",
    "car_specs_k = []\n",
    "\n",
    "for detail in kolkata_df['new_car_detail']:\n",
    "    data_dict = eval(detail)\n",
    "\n",
    "    # manufacturer\n",
    "    oem = data_dict['oem']\n",
    "\n",
    "    # modelYear\n",
    "    model_year = data_dict['modelYear']\n",
    "\n",
    "    # bodytype\n",
    "    body_type = data_dict['bt']\n",
    "\n",
    "    # transmission type\n",
    "    transmission_type = data_dict['transmission']\n",
    "\n",
    "    # fuel type\n",
    "    fuel_type = data_dict['ft']\n",
    "\n",
    "    # total_kms\n",
    "    total_kms = data_dict['km']\n",
    "    total_kms = total_kms.replace(',', '')\n",
    "    total_kms = int(total_kms)\n",
    "\n",
    "    # number of owners\n",
    "    total_owners = data_dict['ownerNo']    \n",
    "\n",
    "    # price\n",
    "    price = data_dict['price']\n",
    "\n",
    "    if 'Lakh' in price:\n",
    "        price = price.replace('Lakh', '')\n",
    "        price = price.replace('₹', '')\n",
    "        converted_price = round((float(price) * 100000), 0)\n",
    "        \n",
    "    elif 'Crore' in price:\n",
    "        price = price.replace('Crore', '')\n",
    "        price = price.replace('₹', '')\n",
    "        converted_price = round((float(price) * 10000000), 0)\n",
    "\n",
    "    dict1 = {'manufacturer': oem,\n",
    "            'model_year': model_year,\n",
    "            'body_type': body_type,\n",
    "            'transmission_type': transmission_type,\n",
    "            'fuel_type': fuel_type,\n",
    "            'total_kms': total_kms,\n",
    "            'total_owners': total_owners,\n",
    "            'price': converted_price,}\n",
    "    \n",
    "    car_details_k.append(dict1)\n",
    "\n",
    "for insurance in kolkata_df['new_car_overview']:\n",
    "    insurance_dict = eval(insurance)\n",
    "    \n",
    "    for top_data in insurance_dict['top']:\n",
    "        if top_data['key'] == 'Insurance Validity':\n",
    "            insurance_type = top_data['value']\n",
    "                    \n",
    "    dict2 = {'insurance_type': insurance_type,}\n",
    "    \n",
    "    car_insurance_k.append(dict2)\n",
    "\n",
    "for spec in kolkata_df['new_car_specs']:\n",
    "\n",
    "    spec_data_dict = eval(spec)\n",
    "\n",
    "    for top_data in spec_data_dict['top']:\n",
    "        if top_data['key'] == 'Mileage':\n",
    "            mileage = top_data['value']\n",
    "\n",
    "        if top_data['key'] == 'Engine':\n",
    "            engine = top_data['value']\n",
    "\n",
    "        if top_data['key'] == 'Max Power':\n",
    "            max_power = top_data['value']\n",
    "\n",
    "        if top_data['key'] == 'Torque':\n",
    "            torque = top_data['value']\n",
    "\n",
    "        if top_data['key'] == 'Seats':\n",
    "            seats = top_data['value']\n",
    "        \n",
    "\n",
    "    for other_data in spec_data_dict['data']:\n",
    "        for car_spec in other_data['list']:\n",
    "            # numberofcylinders\n",
    "            if car_spec['key'] == 'No of Cylinder':\n",
    "                    number_of_cylinders = car_spec['value']\n",
    "\n",
    "            # valves_per_cylinder\n",
    "            if car_spec['key'] == 'Values per Cylinder':\n",
    "                    valves_per_cylinder = car_spec['value']\n",
    "\n",
    "            # Turbo Charger\n",
    "            if car_spec['key'] == 'Turbo Charger':\n",
    "                    turbo_charger = car_spec['value']\n",
    "\n",
    "            # Super Charger\n",
    "            if car_spec['key'] == 'Super Charger':\n",
    "                    super_charger = car_spec['value']\n",
    "\n",
    "            # Gear box\n",
    "            if car_spec['key'] == 'Gear Box':\n",
    "                    gear_box = car_spec['value']\n",
    "                \n",
    "            # Drive Type\n",
    "            if car_spec['key'] == 'Drive Type':\n",
    "                    drive_type = car_spec['value']\n",
    "\n",
    "            # steeringtype\n",
    "            if car_spec['key'] == 'Steering Type':\n",
    "                    steering_type = car_spec['value']\n",
    "\n",
    "            # top speed \n",
    "            if car_spec['key'] == 'Top Speed':\n",
    "                    top_speed = car_spec['value']\n",
    "\n",
    "            # Cargo Volume\n",
    "            if car_spec['key'] == 'Cargo Volumn':\n",
    "                    cargo_volume = car_spec['value']\n",
    "\n",
    "\n",
    "    dict3 = {\n",
    "            'mileage(kmpl)': mileage,\n",
    "            'engine(CC)': engine,\n",
    "            'max_power(bhp)': max_power,\n",
    "            'torque(nm)': torque,\n",
    "            'seats': seats,\n",
    "            'number_of_cylinders': number_of_cylinders,\n",
    "            'valves_per_cylinder': valves_per_cylinder,\n",
    "            'super_charger': super_charger,\n",
    "            'turbo_charger': turbo_charger,\n",
    "            'gear_box': gear_box,\n",
    "            'drive_type': drive_type,\n",
    "            'steering_type': steering_type,\n",
    "            'top_speed': top_speed,\n",
    "            'cargo_volume': cargo_volume,\n",
    "            'location': 'Kolkata'\n",
    "        }\n",
    "\n",
    "    car_specs_k.append(dict3)"
   ]
  },
  {
   "cell_type": "code",
   "execution_count": 68,
   "metadata": {},
   "outputs": [],
   "source": [
    "df1_k = pd.DataFrame(data = car_details_k)\n",
    "df2_k = pd.DataFrame(data = car_insurance_k)\n",
    "df3_k = pd.DataFrame(data = car_specs_k)\n",
    "\n",
    "final_df_k = pd.concat([df1_k, df2_k, df3_k], axis = 1)"
   ]
  },
  {
   "cell_type": "code",
   "execution_count": 69,
   "metadata": {},
   "outputs": [
    {
     "data": {
      "text/plain": [
       "(1381, 24)"
      ]
     },
     "execution_count": 69,
     "metadata": {},
     "output_type": "execute_result"
    }
   ],
   "source": [
    "final_df_k.shape"
   ]
  },
  {
   "cell_type": "code",
   "execution_count": null,
   "metadata": {},
   "outputs": [],
   "source": [
    "final_df_k.to_csv(r'F:\\GUVI_DATA_SCIENCE\\Project\\CarDekho-Used-Car-Price-Prediction\\Datasets\\Processed_datasets\\kolkata.csv', index = False)"
   ]
  }
 ],
 "metadata": {
  "kernelspec": {
   "display_name": "env",
   "language": "python",
   "name": "python3"
  },
  "language_info": {
   "codemirror_mode": {
    "name": "ipython",
    "version": 3
   },
   "file_extension": ".py",
   "mimetype": "text/x-python",
   "name": "python",
   "nbconvert_exporter": "python",
   "pygments_lexer": "ipython3",
   "version": "3.11.3"
  }
 },
 "nbformat": 4,
 "nbformat_minor": 2
}
